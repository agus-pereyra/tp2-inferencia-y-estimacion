{
 "cells": [
  {
   "cell_type": "markdown",
   "id": "46a3f1d8",
   "metadata": {},
   "source": [
    "## Trabajo Práctico $\\mathbb{II}$\n",
    "Inferencia y Estimación"
   ]
  }
 ],
 "metadata": {
  "language_info": {
   "name": "python"
  }
 },
 "nbformat": 4,
 "nbformat_minor": 5
}
