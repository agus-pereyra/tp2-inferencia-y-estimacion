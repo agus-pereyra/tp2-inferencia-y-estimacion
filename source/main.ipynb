{
 "cells": [
  {
   "cell_type": "markdown",
   "id": "46a3f1d8",
   "metadata": {},
   "source": [
    "## Trabajo Práctico $\\mathbb{II}$\n",
    "Inferencia y Estimación"
   ]
  },
  {
   "cell_type": "code",
   "execution_count": 2,
   "id": "7a37ed63",
   "metadata": {},
   "outputs": [],
   "source": [
    "import numpy as np\n",
    "from matplotlib import pyplot as plt"
   ]
  },
  {
   "cell_type": "markdown",
   "id": "8a372a7f",
   "metadata": {},
   "source": [
    "#### $\\boldsymbol{(1)}$ $p(x):$ masa de probabilidad de caracteres"
   ]
  },
  {
   "cell_type": "code",
   "execution_count": 10,
   "id": "fc3fd0ee",
   "metadata": {},
   "outputs": [],
   "source": [
    "def char_pmf(txt: str) -> dict[str|float]:\n",
    "    ''' Dado una cadena de texto devuelve un diccionario representando\n",
    "    masa de probabilidad de cada caracter en la cadena\n",
    "    Args:\n",
    "        txt (str): cadena de texto\n",
    "    Returns:\n",
    "        pmf (dict[str|float]): masa de probabilidad estimada\n",
    "    '''\n",
    "    n = len(txt)\n",
    "    pmf = {}\n",
    "    for c in txt:\n",
    "        if c not in pmf:\n",
    "            pmf[c] = 1/n\n",
    "        else:\n",
    "            pmf[c] += 1/n\n",
    "    return pmf"
   ]
  },
  {
   "cell_type": "markdown",
   "id": "c44c5c31",
   "metadata": {},
   "source": [
    "#### $\\boldsymbol{(2)}$ $\\texttt{huffman\\_code}()$"
   ]
  },
  {
   "cell_type": "markdown",
   "id": "b036f272",
   "metadata": {},
   "source": [
    "#### $\\boldsymbol{(3)}$ $H(X):$ Entropía de los textos"
   ]
  },
  {
   "cell_type": "markdown",
   "id": "20a64781",
   "metadata": {},
   "source": [
    "#### $\\boldsymbol{(4)}$ $\\eta:$ Entropía normalizada\n",
    "\n",
    "$$\n",
    "\\eta = \\frac{H(X)}{\\log_2(N)}, \\quad {\\small N: \\text{cantidad de símbolos}}\n",
    "$$"
   ]
  }
 ],
 "metadata": {
  "kernelspec": {
   "display_name": "base",
   "language": "python",
   "name": "python3"
  },
  "language_info": {
   "codemirror_mode": {
    "name": "ipython",
    "version": 3
   },
   "file_extension": ".py",
   "mimetype": "text/x-python",
   "name": "python",
   "nbconvert_exporter": "python",
   "pygments_lexer": "ipython3",
   "version": "3.13.5"
  }
 },
 "nbformat": 4,
 "nbformat_minor": 5
}
