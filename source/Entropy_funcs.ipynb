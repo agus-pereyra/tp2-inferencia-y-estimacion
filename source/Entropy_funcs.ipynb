{
 "cells": [
  {
   "cell_type": "code",
   "execution_count": 7,
   "id": "6f0cc07a",
   "metadata": {},
   "outputs": [],
   "source": [
    "from math import log2\n",
    "\n",
    "def Entropy(prob:dict):\n",
    "    entropy = 0\n",
    "\n",
    "    for char in prob.keys():\n",
    "        p = prob[char]\n",
    "        entropy += p*log2(p)\n",
    "\n",
    "    return -entropy        \n",
    "\n",
    "\n",
    "def NormEntropy(prob:dict):\n",
    "    \n",
    "    return Entropy(prob)/log2(len(list(prob.keys())))"
   ]
  },
  {
   "cell_type": "code",
   "execution_count": 5,
   "id": "45c8a3b1",
   "metadata": {},
   "outputs": [],
   "source": [
    "def char_pmf(txt: str) -> dict[str|float]:\n",
    "    ''' Dado una cadena de texto devuelve un diccionario representando la masa de probabilidad de cada caracter en la cadena\n",
    "    Args:\n",
    "        txt (str): cadena de texto\n",
    "    Returns:\n",
    "        pmf (dict[str|float]): masa de probabilidad estimada\n",
    "    '''\n",
    "    n = len(txt)\n",
    "    pmf = {}\n",
    "    for c in txt.strip():\n",
    "        if c not in pmf and c:\n",
    "            pmf[c] = 1/n\n",
    "        else:\n",
    "            pmf[c] += 1/n\n",
    "    return pmf\n"
   ]
  },
  {
   "cell_type": "code",
   "execution_count": 10,
   "id": "6af6c5c7",
   "metadata": {},
   "outputs": [
    {
     "name": "stdout",
     "output_type": "stream",
     "text": [
      "[1.9999991922424911, 4.3329767931029615, 3.480007389035783]\n",
      "[0.9999995961212456, 0.7365697283932618, 0.6104805174872738]\n"
     ]
    }
   ],
   "source": [
    "\n",
    "from pathlib import Path\n",
    "\n",
    "filepath = Path('text_examples') \n",
    "\n",
    "Entropy_results = []\n",
    "Norm_Entropy_results = []\n",
    "\n",
    "strings = [] # lista con los textos de ejemplo\n",
    "for file in filepath.glob('*.txt'):\n",
    "    with file.open('r', encoding='utf-8') as f:\n",
    "\n",
    "        string = f.read()\n",
    "        pmf = char_pmf(string)\n",
    "        Entropy_results.append(Entropy(pmf))\n",
    "        Norm_Entropy_results.append(NormEntropy(pmf))\n",
    "\n",
    "\n",
    "\n",
    "print (Entropy_results)\n",
    "print (Norm_Entropy_results)\n"
   ]
  }
 ],
 "metadata": {
  "kernelspec": {
   "display_name": "IyE",
   "language": "python",
   "name": "python3"
  },
  "language_info": {
   "codemirror_mode": {
    "name": "ipython",
    "version": 3
   },
   "file_extension": ".py",
   "mimetype": "text/x-python",
   "name": "python",
   "nbconvert_exporter": "python",
   "pygments_lexer": "ipython3",
   "version": "3.13.5"
  }
 },
 "nbformat": 4,
 "nbformat_minor": 5
}
